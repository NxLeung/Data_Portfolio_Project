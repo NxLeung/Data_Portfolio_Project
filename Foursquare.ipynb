{
 "cells": [
  {
   "cell_type": "code",
   "execution_count": 1,
   "metadata": {},
   "outputs": [],
   "source": [
    "# Dependencies\n",
    "import json\n",
    "import requests\n",
    "from config import client_id, client_secret\n",
    "import pandas as pd"
   ]
  },
  {
   "cell_type": "code",
   "execution_count": 2,
   "metadata": {},
   "outputs": [],
   "source": [
    "# Accessing the Json file downloaded from NYU Spatial Data Repository\n",
    "with open(\"nyu-2451-34572-geojson.json\") as json_data:\n",
    "    newyork_data = json.load(json_data)\n",
    "nyc_ndata = newyork_data[\"features\"]"
   ]
  },
  {
   "cell_type": "code",
   "execution_count": 3,
   "metadata": {},
   "outputs": [],
   "source": [
    "# Creating lists to hold data\n",
    "borough = []\n",
    "neigborhood = []\n",
    "lat = []\n",
    "lon = []\n",
    "\n",
    "# Looping thru data and appending to lists\n",
    "for data in nyc_ndata:\n",
    "    borough.append(data['properties']['borough'])\n",
    "    neigborhood.append(data['properties']['name'])\n",
    "    lat.append(data['geometry']['coordinates'][1])\n",
    "    lon.append(data['geometry']['coordinates'][0])\n",
    "\n",
    "# Creating Dataframe to hold all the data\n",
    "nyc_df = pd.DataFrame({\n",
    "    \"Borough\":borough,\n",
    "    \"Neigborhood\":neigborhood,\n",
    "    \"Latitude\":lat,\n",
    "    \"Longitude\":lon\n",
    "})"
   ]
  },
  {
   "cell_type": "code",
   "execution_count": 4,
   "metadata": {},
   "outputs": [
    {
     "data": {
      "text/html": [
       "<div>\n",
       "<style scoped>\n",
       "    .dataframe tbody tr th:only-of-type {\n",
       "        vertical-align: middle;\n",
       "    }\n",
       "\n",
       "    .dataframe tbody tr th {\n",
       "        vertical-align: top;\n",
       "    }\n",
       "\n",
       "    .dataframe thead th {\n",
       "        text-align: right;\n",
       "    }\n",
       "</style>\n",
       "<table border=\"1\" class=\"dataframe\">\n",
       "  <thead>\n",
       "    <tr style=\"text-align: right;\">\n",
       "      <th></th>\n",
       "      <th>Borough</th>\n",
       "      <th>Neigborhood</th>\n",
       "      <th>Latitude</th>\n",
       "      <th>Longitude</th>\n",
       "    </tr>\n",
       "  </thead>\n",
       "  <tbody>\n",
       "    <tr>\n",
       "      <th>0</th>\n",
       "      <td>Bronx</td>\n",
       "      <td>Wakefield</td>\n",
       "      <td>40.894705</td>\n",
       "      <td>-73.847201</td>\n",
       "    </tr>\n",
       "    <tr>\n",
       "      <th>1</th>\n",
       "      <td>Bronx</td>\n",
       "      <td>Co-op City</td>\n",
       "      <td>40.874294</td>\n",
       "      <td>-73.829939</td>\n",
       "    </tr>\n",
       "    <tr>\n",
       "      <th>2</th>\n",
       "      <td>Bronx</td>\n",
       "      <td>Eastchester</td>\n",
       "      <td>40.887556</td>\n",
       "      <td>-73.827806</td>\n",
       "    </tr>\n",
       "    <tr>\n",
       "      <th>3</th>\n",
       "      <td>Bronx</td>\n",
       "      <td>Fieldston</td>\n",
       "      <td>40.895437</td>\n",
       "      <td>-73.905643</td>\n",
       "    </tr>\n",
       "    <tr>\n",
       "      <th>4</th>\n",
       "      <td>Bronx</td>\n",
       "      <td>Riverdale</td>\n",
       "      <td>40.890834</td>\n",
       "      <td>-73.912585</td>\n",
       "    </tr>\n",
       "  </tbody>\n",
       "</table>\n",
       "</div>"
      ],
      "text/plain": [
       "  Borough  Neigborhood   Latitude  Longitude\n",
       "0   Bronx    Wakefield  40.894705 -73.847201\n",
       "1   Bronx   Co-op City  40.874294 -73.829939\n",
       "2   Bronx  Eastchester  40.887556 -73.827806\n",
       "3   Bronx    Fieldston  40.895437 -73.905643\n",
       "4   Bronx    Riverdale  40.890834 -73.912585"
      ]
     },
     "execution_count": 4,
     "metadata": {},
     "output_type": "execute_result"
    }
   ],
   "source": [
    "nyc_df.head()"
   ]
  },
  {
   "cell_type": "code",
   "execution_count": 5,
   "metadata": {},
   "outputs": [],
   "source": [
    "def createURL(endpoint, client_id, client_secret, version, lat, lon, radius, categoryid, limit):\n",
    "    url=\"{}&client_id={}&client_secret={}&v={}&ll={},{}&radius={}&categoryid={}&limit={}\".format(\n",
    "    endpoint,\n",
    "    client_id,\n",
    "    client_secret,\n",
    "    v,\n",
    "    lat,\n",
    "    lon,\n",
    "    radius,\n",
    "    categoryid,\n",
    "    limit)\n",
    "    return url"
   ]
  },
  {
   "cell_type": "code",
   "execution_count": 40,
   "metadata": {},
   "outputs": [],
   "source": [
    "hood_name = nyc_df[\"Neigborhood\"][:3]\n",
    "lat = nyc_df[\"Latitude\"][:3]\n",
    "lon = nyc_df[\"Longitude\"][:3]"
   ]
  },
  {
   "cell_type": "code",
   "execution_count": 19,
   "metadata": {},
   "outputs": [],
   "source": [
    "venues = pd.DataFrame({\n",
    "    \"Venue ID\":[],\n",
    "    \"Venue name\":[],\n",
    "    \"Category\":[],\n",
    "    \"Latitude\":[],\n",
    "    \"Longitude\":[],\n",
    "    \"State\": [],\n",
    "    \"City\": [],\n",
    "    \"Neigborhood\":[],\n",
    "    \"Likes\": [],\n",
    "    \"Checkins\": []\n",
    "})"
   ]
  },
  {
   "cell_type": "code",
   "execution_count": 20,
   "metadata": {},
   "outputs": [
    {
     "data": {
      "text/html": [
       "<div>\n",
       "<style scoped>\n",
       "    .dataframe tbody tr th:only-of-type {\n",
       "        vertical-align: middle;\n",
       "    }\n",
       "\n",
       "    .dataframe tbody tr th {\n",
       "        vertical-align: top;\n",
       "    }\n",
       "\n",
       "    .dataframe thead th {\n",
       "        text-align: right;\n",
       "    }\n",
       "</style>\n",
       "<table border=\"1\" class=\"dataframe\">\n",
       "  <thead>\n",
       "    <tr style=\"text-align: right;\">\n",
       "      <th></th>\n",
       "      <th>Venue ID</th>\n",
       "      <th>Venue name</th>\n",
       "      <th>Category</th>\n",
       "      <th>Latitude</th>\n",
       "      <th>Longitude</th>\n",
       "      <th>State</th>\n",
       "      <th>City</th>\n",
       "      <th>Neigborhood</th>\n",
       "      <th>Likes</th>\n",
       "      <th>Checkins</th>\n",
       "    </tr>\n",
       "  </thead>\n",
       "  <tbody>\n",
       "  </tbody>\n",
       "</table>\n",
       "</div>"
      ],
      "text/plain": [
       "Empty DataFrame\n",
       "Columns: [Venue ID, Venue name, Category, Latitude, Longitude, State, City, Neigborhood, Likes, Checkins]\n",
       "Index: []"
      ]
     },
     "execution_count": 20,
     "metadata": {},
     "output_type": "execute_result"
    }
   ],
   "source": [
    "venues"
   ]
  },
  {
   "cell_type": "code",
   "execution_count": 41,
   "metadata": {},
   "outputs": [
    {
     "name": "stdout",
     "output_type": "stream",
     "text": [
      "Beginning Data Retrieval\n",
      "-------------------------------\n",
      "Processing neigborhood 1 out of 306 | Wakefield\n",
      "https://api.foursquare.com/v2/venues/search?&client_id=ZZOWEUFEZ2LJEQLVHJ3LSFP40KSRDO4INKP5YHA244055N2L&client_secret=FGIZTT1ZG4IZU4NZBMXS1ZTHSBFDKXQJS4EQG0Z2K2QR5OXH&v=20190607&ll=40.89470517661,-73.84720052054902&radius=1000&categoryid=4bf58dd8d48988d17f941735&limit=500\n",
      "Processing neigborhood 2 out of 306 | Co-op City\n",
      "https://api.foursquare.com/v2/venues/search?&client_id=ZZOWEUFEZ2LJEQLVHJ3LSFP40KSRDO4INKP5YHA244055N2L&client_secret=FGIZTT1ZG4IZU4NZBMXS1ZTHSBFDKXQJS4EQG0Z2K2QR5OXH&v=20190607&ll=40.87429419303012,-73.82993910812398&radius=1000&categoryid=4bf58dd8d48988d17f941735&limit=500\n",
      "Processing neigborhood 3 out of 306 | Eastchester\n",
      "https://api.foursquare.com/v2/venues/search?&client_id=ZZOWEUFEZ2LJEQLVHJ3LSFP40KSRDO4INKP5YHA244055N2L&client_secret=FGIZTT1ZG4IZU4NZBMXS1ZTHSBFDKXQJS4EQG0Z2K2QR5OXH&v=20190607&ll=40.887555677350775,-73.82780644716412&radius=1000&categoryid=4bf58dd8d48988d17f941735&limit=500\n",
      "Data Retrieval Complete\n"
     ]
    }
   ],
   "source": [
    "# Starting URL for Weather Map API Call\n",
    "endpoint=\"https://api.foursquare.com/v2/venues/search?\"\n",
    "v=20190607\n",
    "radius=1000\n",
    "categoryid = \"4bf58dd8d48988d17f941735\"\n",
    "limit=500\n",
    "\n",
    "total_records = nyc_df[\"Borough\"].count()\n",
    "\n",
    "# Will keep the count of records\n",
    "record = 1\n",
    "index=0\n",
    "\n",
    "# Log file print statement\n",
    "print(\"Beginning Data Retrieval\")\n",
    "print(\"-------------------------------\")\n",
    "\n",
    "\n",
    "# Loop through the cities in the city list\n",
    "for hood_name, lat, lon in zip(hood_name, lat, lon):\n",
    "    \n",
    "    url=createURL(endpoint, client_id, client_secret, v, lat, lon, radius, categoryid, limit)\n",
    "    response = requests.get(url).json()[\"response\"][\"venues\"]\n",
    "    \n",
    "    for item in response:\n",
    "            # Append the data to lists\n",
    "        try:\n",
    "            venues.loc[index,\"Venue ID\"] = item[\"id\"]\n",
    "            venues.loc[index,\"Venue name\"] = item[\"name\"]\n",
    "            venues.loc[index,\"Latitude\"] = item[\"location\"][\"lat\"]\n",
    "            venues.loc[index,\"Longitude\"] = item[\"location\"][\"lng\"]\n",
    "            venues.loc[index,\"State\"] = item[\"location\"][\"state\"]\n",
    "            venues.loc[index,\"Neigborhood\"] = hood_name\n",
    "            #venues.loc[index,\"City\"] = item[\"location\"]['city']\n",
    "            #venues.loc[index,\"Category\"] = item[\"categories\"][0][\"name\"]\n",
    "        except:\n",
    "            print(\"NA\")\n",
    "\n",
    "    print(f\"Processing neigborhood {record} out of {total_records} | {hood_name}\")\n",
    "    print(url)\n",
    "\n",
    "    # Increase counter by one\n",
    "    record +=1\n",
    "    index+=1\n",
    "    \n",
    "print(\"Data Retrieval Complete\")"
   ]
  },
  {
   "cell_type": "code",
   "execution_count": 42,
   "metadata": {},
   "outputs": [
    {
     "data": {
      "text/html": [
       "<div>\n",
       "<style scoped>\n",
       "    .dataframe tbody tr th:only-of-type {\n",
       "        vertical-align: middle;\n",
       "    }\n",
       "\n",
       "    .dataframe tbody tr th {\n",
       "        vertical-align: top;\n",
       "    }\n",
       "\n",
       "    .dataframe thead th {\n",
       "        text-align: right;\n",
       "    }\n",
       "</style>\n",
       "<table border=\"1\" class=\"dataframe\">\n",
       "  <thead>\n",
       "    <tr style=\"text-align: right;\">\n",
       "      <th></th>\n",
       "      <th>Venue ID</th>\n",
       "      <th>Venue name</th>\n",
       "      <th>Category</th>\n",
       "      <th>Latitude</th>\n",
       "      <th>Longitude</th>\n",
       "      <th>State</th>\n",
       "      <th>City</th>\n",
       "      <th>Neigborhood</th>\n",
       "      <th>Likes</th>\n",
       "      <th>Checkins</th>\n",
       "    </tr>\n",
       "  </thead>\n",
       "  <tbody>\n",
       "    <tr>\n",
       "      <th>0</th>\n",
       "      <td>50ac2001e4b0677d4e55892d</td>\n",
       "      <td>Rig's Meat Market</td>\n",
       "      <td>Steakhouse</td>\n",
       "      <td>40.890519</td>\n",
       "      <td>-73.853206</td>\n",
       "      <td>NY</td>\n",
       "      <td>Bronx</td>\n",
       "      <td>Wakefield</td>\n",
       "      <td>NaN</td>\n",
       "      <td>NaN</td>\n",
       "    </tr>\n",
       "    <tr>\n",
       "      <th>1</th>\n",
       "      <td>4d8f6fc65091a1cdaef3a501</td>\n",
       "      <td>Co-Op City Bldg 20</td>\n",
       "      <td>Residential Building (Apartment / Condo)</td>\n",
       "      <td>40.871358</td>\n",
       "      <td>-73.826402</td>\n",
       "      <td>NY</td>\n",
       "      <td>Bronx</td>\n",
       "      <td>Co-op City</td>\n",
       "      <td>NaN</td>\n",
       "      <td>NaN</td>\n",
       "    </tr>\n",
       "    <tr>\n",
       "      <th>2</th>\n",
       "      <td>5283cbba11d26f7fe2ca1c28</td>\n",
       "      <td>Herbalife</td>\n",
       "      <td>Church</td>\n",
       "      <td>40.885262</td>\n",
       "      <td>-73.825374</td>\n",
       "      <td>NY</td>\n",
       "      <td>Bronx</td>\n",
       "      <td>Eastchester</td>\n",
       "      <td>NaN</td>\n",
       "      <td>NaN</td>\n",
       "    </tr>\n",
       "  </tbody>\n",
       "</table>\n",
       "</div>"
      ],
      "text/plain": [
       "                   Venue ID          Venue name  \\\n",
       "0  50ac2001e4b0677d4e55892d   Rig's Meat Market   \n",
       "1  4d8f6fc65091a1cdaef3a501  Co-Op City Bldg 20   \n",
       "2  5283cbba11d26f7fe2ca1c28           Herbalife   \n",
       "\n",
       "                                   Category   Latitude  Longitude State  \\\n",
       "0                                Steakhouse  40.890519 -73.853206    NY   \n",
       "1  Residential Building (Apartment / Condo)  40.871358 -73.826402    NY   \n",
       "2                                    Church  40.885262 -73.825374    NY   \n",
       "\n",
       "    City  Neigborhood  Likes  Checkins  \n",
       "0  Bronx    Wakefield    NaN       NaN  \n",
       "1  Bronx   Co-op City    NaN       NaN  \n",
       "2  Bronx  Eastchester    NaN       NaN  "
      ]
     },
     "execution_count": 42,
     "metadata": {},
     "output_type": "execute_result"
    }
   ],
   "source": [
    "venues.head()"
   ]
  },
  {
   "cell_type": "code",
   "execution_count": null,
   "metadata": {},
   "outputs": [],
   "source": [
    "url = \"https://api.foursquare.com/v2/venues/search?&client_id=ZZOWEUFEZ2LJEQLVHJ3LSFP40KSRDO4INKP5YHA244055N2L&client_secret=FGIZTT1ZG4IZU4NZBMXS1ZTHSBFDKXQJS4EQG0Z2K2QR5OXH&v=20190607&ll=40.887555677350775,-73.82780644716412&radius=1000&categoryid=4bf58dd8d48988d17f941735&limit=50\"\n",
    "response = requests.get(url).json()[\"response\"][\"venues\"]\n",
    "category = []\n",
    "for item in response:\n",
    "    try:\n",
    "        category.append(item[\"categories\"][0][\"name\"])\n",
    "    except:\n",
    "        category.append(\"na\")\n",
    "        \n",
    "    "
   ]
  },
  {
   "cell_type": "code",
   "execution_count": null,
   "metadata": {},
   "outputs": [],
   "source": [
    "venues = pd.DataFrame({\n",
    "    \"Venue ID\":venue_id,\n",
    "    \"Venue name\":name,\n",
    "    \"Category\":category,\n",
    "    \"Latitude\":latitude,\n",
    "    \"Longitude\":longitude,\n",
    "    \"State\": state,\n",
    "    \"City\": city,\n",
    "    \"Neigborhood\":neigborhood\n",
    "    \"Likes\": likes,\n",
    "    \"Checkins\": checkins\n",
    "})"
   ]
  },
  {
   "cell_type": "code",
   "execution_count": null,
   "metadata": {},
   "outputs": [],
   "source": []
  }
 ],
 "metadata": {
  "kernelspec": {
   "display_name": "Python [conda env:PythonData] *",
   "language": "python",
   "name": "conda-env-PythonData-py"
  },
  "language_info": {
   "codemirror_mode": {
    "name": "ipython",
    "version": 3
   },
   "file_extension": ".py",
   "mimetype": "text/x-python",
   "name": "python",
   "nbconvert_exporter": "python",
   "pygments_lexer": "ipython3",
   "version": "3.6.8"
  },
  "toc": {
   "base_numbering": 1,
   "nav_menu": {},
   "number_sections": true,
   "sideBar": true,
   "skip_h1_title": false,
   "title_cell": "Table of Contents",
   "title_sidebar": "Contents",
   "toc_cell": false,
   "toc_position": {},
   "toc_section_display": true,
   "toc_window_display": false
  },
  "varInspector": {
   "cols": {
    "lenName": 16,
    "lenType": 16,
    "lenVar": 40
   },
   "kernels_config": {
    "python": {
     "delete_cmd_postfix": "",
     "delete_cmd_prefix": "del ",
     "library": "var_list.py",
     "varRefreshCmd": "print(var_dic_list())"
    },
    "r": {
     "delete_cmd_postfix": ") ",
     "delete_cmd_prefix": "rm(",
     "library": "var_list.r",
     "varRefreshCmd": "cat(var_dic_list()) "
    }
   },
   "types_to_exclude": [
    "module",
    "function",
    "builtin_function_or_method",
    "instance",
    "_Feature"
   ],
   "window_display": false
  }
 },
 "nbformat": 4,
 "nbformat_minor": 2
}
