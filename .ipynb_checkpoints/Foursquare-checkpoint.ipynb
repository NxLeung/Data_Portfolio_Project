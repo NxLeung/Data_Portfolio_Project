{
 "cells": [
  {
   "cell_type": "code",
   "execution_count": 5,
   "metadata": {},
   "outputs": [
    {
     "data": {
      "text/plain": [
       "{'type': 'Feature',\n",
       " 'id': 'nyu_2451_34572.1',\n",
       " 'geometry': {'type': 'Point',\n",
       "  'coordinates': [-73.84720052054902, 40.89470517661]},\n",
       " 'geometry_name': 'geom',\n",
       " 'properties': {'name': 'Wakefield',\n",
       "  'stacked': 1,\n",
       "  'annoline1': 'Wakefield',\n",
       "  'annoline2': None,\n",
       "  'annoline3': None,\n",
       "  'annoangle': 0.0,\n",
       "  'borough': 'Bronx',\n",
       "  'bbox': [-73.84720052054902,\n",
       "   40.89470517661,\n",
       "   -73.84720052054902,\n",
       "   40.89470517661]}}"
      ]
     },
     "execution_count": 5,
     "metadata": {},
     "output_type": "execute_result"
    }
   ],
   "source": [
    "import pandas as pd \n",
    "import json\n",
    "import os\n",
    "from config import CLIENT_ID, CLIENT_SECRET\n",
    "import requests\n",
    "import foursquare\n",
    "\n",
    "# Load JSON\n",
    "filepath = os.path.join(\"Resources\", \"geojson.json\")\n",
    "with open(filepath) as jsonfile:\n",
    "    geo_json = json.load(jsonfile)\n",
    "nycdata = geo_json[\"features\"]\n",
    "nycdata[0]"
   ]
  },
  {
   "cell_type": "code",
   "execution_count": 10,
   "metadata": {},
   "outputs": [
    {
     "data": {
      "text/html": [
       "<div>\n",
       "<style scoped>\n",
       "    .dataframe tbody tr th:only-of-type {\n",
       "        vertical-align: middle;\n",
       "    }\n",
       "\n",
       "    .dataframe tbody tr th {\n",
       "        vertical-align: top;\n",
       "    }\n",
       "\n",
       "    .dataframe thead th {\n",
       "        text-align: right;\n",
       "    }\n",
       "</style>\n",
       "<table border=\"1\" class=\"dataframe\">\n",
       "  <thead>\n",
       "    <tr style=\"text-align: right;\">\n",
       "      <th></th>\n",
       "      <th>Borough</th>\n",
       "      <th>Neighborhood</th>\n",
       "      <th>Latitude</th>\n",
       "      <th>Longitude</th>\n",
       "    </tr>\n",
       "  </thead>\n",
       "  <tbody>\n",
       "    <tr>\n",
       "      <th>0</th>\n",
       "      <td>Bronx</td>\n",
       "      <td>Wakefield</td>\n",
       "      <td>40.894705</td>\n",
       "      <td>-73.847201</td>\n",
       "    </tr>\n",
       "    <tr>\n",
       "      <th>1</th>\n",
       "      <td>Bronx</td>\n",
       "      <td>Co-op City</td>\n",
       "      <td>40.874294</td>\n",
       "      <td>-73.829939</td>\n",
       "    </tr>\n",
       "    <tr>\n",
       "      <th>2</th>\n",
       "      <td>Bronx</td>\n",
       "      <td>Eastchester</td>\n",
       "      <td>40.887556</td>\n",
       "      <td>-73.827806</td>\n",
       "    </tr>\n",
       "    <tr>\n",
       "      <th>3</th>\n",
       "      <td>Bronx</td>\n",
       "      <td>Fieldston</td>\n",
       "      <td>40.895437</td>\n",
       "      <td>-73.905643</td>\n",
       "    </tr>\n",
       "    <tr>\n",
       "      <th>4</th>\n",
       "      <td>Bronx</td>\n",
       "      <td>Riverdale</td>\n",
       "      <td>40.890834</td>\n",
       "      <td>-73.912585</td>\n",
       "    </tr>\n",
       "  </tbody>\n",
       "</table>\n",
       "</div>"
      ],
      "text/plain": [
       "  Borough Neighborhood   Latitude  Longitude\n",
       "0   Bronx    Wakefield  40.894705 -73.847201\n",
       "1   Bronx   Co-op City  40.874294 -73.829939\n",
       "2   Bronx  Eastchester  40.887556 -73.827806\n",
       "3   Bronx    Fieldston  40.895437 -73.905643\n",
       "4   Bronx    Riverdale  40.890834 -73.912585"
      ]
     },
     "execution_count": 10,
     "metadata": {},
     "output_type": "execute_result"
    }
   ],
   "source": [
    "column_names = ['Borough','Neighborhood', 'Latitude', 'Longitude']\n",
    "neighborhoods = pd.DataFrame(columns=column_names)\n",
    "\n",
    "for data in nycdata:\n",
    "    borough = nycdata = data['properties']['borough']\n",
    "    neighborhood_name = data['properties']['name']\n",
    "    \n",
    "    neighborhoodlatlon = data['geometry']['coordinates']\n",
    "    lat = neighborhoodlatlon[1]\n",
    "    lon = neighborhoodlatlon[0]\n",
    "    \n",
    "    neighborhoods = neighborhoods.append({'Borough':borough,\n",
    "                                          'Neighborhood':neighborhood_name,\n",
    "                                          'Latitude': lat,\n",
    "                                          'Longitude': lon}, ignore_index=True)\n",
    "\n",
    "neighborhoods.head()\n",
    "    \n",
    "    \n",
    "    "
   ]
  },
  {
   "cell_type": "code",
   "execution_count": 19,
   "metadata": {},
   "outputs": [
    {
     "data": {
      "text/plain": [
       "{'meta': {'code': 200, 'requestId': '5cfb21c3f594df57eda389e5'},\n",
       " 'response': {'venues': [{'id': '50364f25e4b0aae9b3420bb1',\n",
       "    'name': 'J. Landress Brass',\n",
       "    'location': {'address': '153 W 36th St Ste 6',\n",
       "     'crossStreet': '7th Avenue and Broadway',\n",
       "     'lat': 40.75208860835749,\n",
       "     'lng': -73.98900311784871,\n",
       "     'labeledLatLngs': [{'label': 'display',\n",
       "       'lat': 40.75208860835749,\n",
       "       'lng': -73.98900311784871}],\n",
       "     'distance': 496,\n",
       "     'postalCode': '10018',\n",
       "     'cc': 'US',\n",
       "     'city': 'New York',\n",
       "     'state': 'NY',\n",
       "     'country': 'United States',\n",
       "     'formattedAddress': ['153 W 36th St Ste 6 (7th Avenue and Broadway)',\n",
       "      'New York, NY 10018',\n",
       "      'United States']},\n",
       "    'categories': [{'id': '4bf58dd8d48988d1fe941735',\n",
       "      'name': 'Music Store',\n",
       "      'pluralName': 'Music Stores',\n",
       "      'shortName': 'Music Store',\n",
       "      'icon': {'prefix': 'https://ss3.4sqi.net/img/categories_v2/shops/music_instruments_',\n",
       "       'suffix': '.png'},\n",
       "      'primary': True}],\n",
       "    'referralId': 'v-1559962051',\n",
       "    'hasPerk': False}],\n",
       "  'confident': True}}"
      ]
     },
     "execution_count": 19,
     "metadata": {},
     "output_type": "execute_result"
    }
   ],
   "source": [
    "VERSION = 20180605\n",
    "lat = 40.7484\n",
    "lon = -73.9857\n",
    "radius = 500 #Meters\n",
    "categoryId = '4bf58dd8d48988d1fe941735'\n",
    "limit = 1\n",
    "endpoint = 'https://api.foursquare.com/v2/venues/search?'\n",
    "\n",
    "url = '{}&client_id={}&client_secret={}&v={}&ll={},{}&radius={}&categoryId={}&limit={}'.format(\n",
    "    endpoint,\n",
    "    CLIENT_ID,\n",
    "    CLIENT_SECRET,\n",
    "    VERSION,\n",
    "    lat,\n",
    "    lon,\n",
    "    radius,\n",
    "    categoryId,\n",
    "    limit\n",
    ")\n",
    "\n",
    "results = requests.get(url).json()\n",
    "results"
   ]
  },
  {
   "cell_type": "code",
   "execution_count": 7,
   "metadata": {},
   "outputs": [
    {
     "data": {
      "text/plain": [
       "{'venues': [{'id': '50364f25e4b0aae9b3420bb1',\n",
       "   'name': 'J. Landress Brass',\n",
       "   'location': {'address': '153 W 36th St Ste 6',\n",
       "    'crossStreet': '7th Avenue and Broadway',\n",
       "    'lat': 40.75208860835749,\n",
       "    'lng': -73.98900311784871,\n",
       "    'labeledLatLngs': [{'label': 'display',\n",
       "      'lat': 40.75208860835749,\n",
       "      'lng': -73.98900311784871}],\n",
       "    'distance': 496,\n",
       "    'postalCode': '10018',\n",
       "    'cc': 'US',\n",
       "    'city': 'New York',\n",
       "    'state': 'NY',\n",
       "    'country': 'United States',\n",
       "    'formattedAddress': ['153 W 36th St Ste 6 (7th Avenue and Broadway)',\n",
       "     'New York, NY 10018',\n",
       "     'United States']},\n",
       "   'categories': [{'id': '4bf58dd8d48988d1fe941735',\n",
       "     'name': 'Music Store',\n",
       "     'pluralName': 'Music Stores',\n",
       "     'shortName': 'Music Store',\n",
       "     'icon': {'prefix': 'https://ss3.4sqi.net/img/categories_v2/shops/music_instruments_',\n",
       "      'suffix': '.png'},\n",
       "     'primary': True}],\n",
       "   'referralId': 'v-1559967639',\n",
       "   'hasPerk': False}],\n",
       " 'confident': True}"
      ]
     },
     "execution_count": 7,
     "metadata": {},
     "output_type": "execute_result"
    }
   ],
   "source": [
    "VERSION = 20180605\n",
    "lat = 40.7484\n",
    "lon = -73.9857\n",
    "radius = 500 #Meters\n",
    "categoryId = '4bf58dd8d48988d1fe941735'\n",
    "limit = 1\n",
    "\n",
    "client = foursquare.Foursquare(client_id=CLIENT_ID, client_secret=CLIENT_SECRET)\n",
    "# for venue in venues:\n",
    "#     client.venues(venue)\n",
    "\n",
    "results = client.venues.search(params={'VERSION': VERSION,\n",
    "                                       'll': f\"{lat},{lon}\",\n",
    "                                       'radius': radius,\n",
    "                                       'categoryId': categoryId,\n",
    "                                       'limit': limit})\n",
    "results\n",
    "\n",
    "\n"
   ]
  },
  {
   "cell_type": "code",
   "execution_count": 4,
   "metadata": {},
   "outputs": [
    {
     "name": "stdout",
     "output_type": "stream",
     "text": [
      "https://api.foursquare.com/v2/venues/search?&client_id=P42MSSPPC323K4R5JQ3SOLITVBSTD2RAWJECR0YXF0EMIRNX&client_secret=UEREJBCDMMOBS2BMN2ABK0WYY1HGNVWOBJIXI1SGFT15UILP&v=20180605&ll=45.0,-70.0&radius=1000&categoryId=4bf58dd8d48988d1e5931735,4bf58dd8d48988d1e7931735,4bf58dd8d48988d1e8931735,4bf58dd8d48988d1e9931735,5267e4d9e4b0ec79466e48d1,56aa371be4b08b9a8d5734db,5032792091d4c4b30a586d5c,4d4b7105d754a06376d81259,4bf58dd8d48988d120941735&limit=50\n"
     ]
    }
   ],
   "source": [
    "def create_url(endpoint, CLIENT_ID, CLIENT_SECRET, VERSION, lat, lon, radius, categoryId):\n",
    "\n",
    "    url = '{}&client_id={}&client_secret={}&v={}&ll={},{}&radius={}&categoryId={}&limit={}'.format(\n",
    "        endpoint,\n",
    "        CLIENT_ID,\n",
    "        CLIENT_SECRET,\n",
    "        VERSION,\n",
    "        lat,\n",
    "        lon,\n",
    "        radius,\n",
    "        categoryId,\n",
    "        limit\n",
    "    )\n",
    "    return url\n",
    "\n",
    "endpoint = 'https://api.foursquare.com/v2/venues/search?'\n",
    "categoryIds = ['4bf58dd8d48988d1e5931735',# Music Venue\n",
    "               '4bf58dd8d48988d1e7931735',# Jazz Club\n",
    "               '4bf58dd8d48988d1e8931735',# Piano Bar\n",
    "               '4bf58dd8d48988d1e9931735',# Rock Club\n",
    "               '5267e4d9e4b0ec79466e48d1',# Music Festival\n",
    "               '56aa371be4b08b9a8d5734db',# Amphitheater\n",
    "               '5032792091d4c4b30a586d5c',# Concert Hall\n",
    "               '4d4b7105d754a06376d81259',# Nightlife Spot\n",
    "               '4bf58dd8d48988d120941735',# Kareoke Bar\n",
    "               ]\n",
    "VERSION = 20180605\n",
    "limit = 50\n",
    "radius = 1000\n",
    "lat = 45.0000000\n",
    "lon = -70.0000000\n",
    "categoryId = ','.join(categoryIds)\n",
    "url_example = create_url(endpoint, CLIENT_ID, CLIENT_SECRET, VERSION, lat, lon, radius, categoryId)\n",
    "print(url_example)\n",
    "\n",
    "# client = foursquare.Foursquare(client_id=CLIENT_ID, client_secret=CLIENT_SECRET)\n",
    "# for venue in venues:\n",
    "#     client.venues(venue)\n",
    "#     client.venues.search(params={'query': 'coffee', 'll': '40.7233,-74.0030'})\n"
   ]
  },
  {
   "cell_type": "code",
   "execution_count": null,
   "metadata": {},
   "outputs": [],
   "source": []
  }
 ],
 "metadata": {
  "kernelspec": {
   "display_name": "Python 3",
   "language": "python",
   "name": "python3"
  },
  "language_info": {
   "codemirror_mode": {
    "name": "ipython",
    "version": 3
   },
   "file_extension": ".py",
   "mimetype": "text/x-python",
   "name": "python",
   "nbconvert_exporter": "python",
   "pygments_lexer": "ipython3",
   "version": "3.7.3"
  }
 },
 "nbformat": 4,
 "nbformat_minor": 2
}
