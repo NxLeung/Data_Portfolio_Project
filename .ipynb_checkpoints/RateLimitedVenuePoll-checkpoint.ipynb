{
 "cells": [
  {
   "cell_type": "code",
<<<<<<< HEAD
   "execution_count": 2,
=======
   "execution_count": 21,
>>>>>>> 88a8804a694696b9b4b1162c864fb29c6edc5cf1
   "metadata": {},
   "outputs": [
    {
     "data": {
      "text/html": [
       "<div>\n",
       "<style scoped>\n",
       "    .dataframe tbody tr th:only-of-type {\n",
       "        vertical-align: middle;\n",
       "    }\n",
       "\n",
       "    .dataframe tbody tr th {\n",
       "        vertical-align: top;\n",
       "    }\n",
       "\n",
       "    .dataframe thead th {\n",
       "        text-align: right;\n",
       "    }\n",
       "</style>\n",
       "<table border=\"1\" class=\"dataframe\">\n",
       "  <thead>\n",
       "    <tr style=\"text-align: right;\">\n",
       "      <th></th>\n",
       "      <th>Neighborhood</th>\n",
       "      <th>Neighborhood Latitude</th>\n",
       "      <th>Neighborhood Longitude</th>\n",
       "      <th>Venue Name</th>\n",
       "      <th>Venue ID</th>\n",
       "      <th>Venue Category</th>\n",
       "      <th>Venue Latitude</th>\n",
       "      <th>Venue Longitude</th>\n",
       "      <th>Venue City</th>\n",
       "      <th>Venue State</th>\n",
       "      <th>Likes</th>\n",
       "      <th>Rating</th>\n",
       "    </tr>\n",
       "  </thead>\n",
       "  <tbody>\n",
       "    <tr>\n",
       "      <th>0</th>\n",
       "      <td>Wakefield</td>\n",
       "      <td>40.894705</td>\n",
       "      <td>-73.847201</td>\n",
       "      <td>The Upper Room</td>\n",
       "      <td>4f57ef61e4b063a4ab675858</td>\n",
       "      <td>Music Venue</td>\n",
       "      <td>40.892567</td>\n",
       "      <td>-73.846406</td>\n",
       "      <td>NaN</td>\n",
<<<<<<< HEAD
       "      <td>New York</td>\n",
=======
       "      <td>NY</td>\n",
>>>>>>> 88a8804a694696b9b4b1162c864fb29c6edc5cf1
       "      <td></td>\n",
       "      <td></td>\n",
       "    </tr>\n",
       "    <tr>\n",
       "      <th>1</th>\n",
       "      <td>Wakefield</td>\n",
       "      <td>40.894705</td>\n",
       "      <td>-73.847201</td>\n",
<<<<<<< HEAD
       "      <td>241st Liquor Store</td>\n",
       "      <td>4f349b15e4b0e4d04e99a428</td>\n",
       "      <td>Other Nightlife</td>\n",
       "      <td>40.902771</td>\n",
       "      <td>-73.849898</td>\n",
=======
       "      <td>Dyme Life Radio</td>\n",
       "      <td>4da63d645da3e8486b80546f</td>\n",
       "      <td>Music Venue</td>\n",
       "      <td>40.894541</td>\n",
       "      <td>-73.843266</td>\n",
>>>>>>> 88a8804a694696b9b4b1162c864fb29c6edc5cf1
       "      <td>Bronx</td>\n",
       "      <td>NY</td>\n",
       "      <td></td>\n",
       "      <td></td>\n",
       "    </tr>\n",
       "    <tr>\n",
       "      <th>2</th>\n",
       "      <td>Wakefield</td>\n",
       "      <td>40.894705</td>\n",
       "      <td>-73.847201</td>\n",
<<<<<<< HEAD
       "      <td>Dyme Life Radio</td>\n",
       "      <td>4da63d645da3e8486b80546f</td>\n",
       "      <td>Music Venue</td>\n",
       "      <td>40.894541</td>\n",
       "      <td>-73.843266</td>\n",
=======
       "      <td>Par-City</td>\n",
       "      <td>4d23aea014f2b1f7740f68be</td>\n",
       "      <td>Music Venue</td>\n",
       "      <td>40.890211</td>\n",
       "      <td>-73.847002</td>\n",
>>>>>>> 88a8804a694696b9b4b1162c864fb29c6edc5cf1
       "      <td>Bronx</td>\n",
       "      <td>NY</td>\n",
       "      <td></td>\n",
       "      <td></td>\n",
       "    </tr>\n",
       "    <tr>\n",
       "      <th>3</th>\n",
       "      <td>Wakefield</td>\n",
       "      <td>40.894705</td>\n",
       "      <td>-73.847201</td>\n",
<<<<<<< HEAD
       "      <td>Par-City</td>\n",
       "      <td>4d23aea014f2b1f7740f68be</td>\n",
       "      <td>Music Venue</td>\n",
       "      <td>40.890211</td>\n",
       "      <td>-73.847002</td>\n",
       "      <td>Bronx</td>\n",
=======
       "      <td>MY Studio</td>\n",
       "      <td>4e9cb64c49017c00c840e759</td>\n",
       "      <td>Music Venue</td>\n",
       "      <td>40.901926</td>\n",
       "      <td>-73.853504</td>\n",
       "      <td>NaN</td>\n",
>>>>>>> 88a8804a694696b9b4b1162c864fb29c6edc5cf1
       "      <td>NY</td>\n",
       "      <td></td>\n",
       "      <td></td>\n",
       "    </tr>\n",
       "    <tr>\n",
       "      <th>4</th>\n",
       "      <td>Wakefield</td>\n",
       "      <td>40.894705</td>\n",
       "      <td>-73.847201</td>\n",
<<<<<<< HEAD
       "      <td>Tavern</td>\n",
       "      <td>4f32cf0919836c91c7fd025d</td>\n",
       "      <td>Bar</td>\n",
       "      <td>40.895898</td>\n",
       "      <td>-73.855731</td>\n",
       "      <td>Bronx</td>\n",
=======
       "      <td>Major League Music Group</td>\n",
       "      <td>4ee0764f0aafbb3dbab41e92</td>\n",
       "      <td>Music Venue</td>\n",
       "      <td>40.891367</td>\n",
       "      <td>-73.850088</td>\n",
       "      <td>NaN</td>\n",
>>>>>>> 88a8804a694696b9b4b1162c864fb29c6edc5cf1
       "      <td>NY</td>\n",
       "      <td></td>\n",
       "      <td></td>\n",
       "    </tr>\n",
       "  </tbody>\n",
       "</table>\n",
       "</div>"
      ],
      "text/plain": [
       "  Neighborhood  Neighborhood Latitude  Neighborhood Longitude  \\\n",
       "0    Wakefield              40.894705              -73.847201   \n",
       "1    Wakefield              40.894705              -73.847201   \n",
       "2    Wakefield              40.894705              -73.847201   \n",
       "3    Wakefield              40.894705              -73.847201   \n",
       "4    Wakefield              40.894705              -73.847201   \n",
       "\n",
<<<<<<< HEAD
       "           Venue Name                  Venue ID   Venue Category  \\\n",
       "0      The Upper Room  4f57ef61e4b063a4ab675858      Music Venue   \n",
       "1  241st Liquor Store  4f349b15e4b0e4d04e99a428  Other Nightlife   \n",
       "2     Dyme Life Radio  4da63d645da3e8486b80546f      Music Venue   \n",
       "3            Par-City  4d23aea014f2b1f7740f68be      Music Venue   \n",
       "4              Tavern  4f32cf0919836c91c7fd025d              Bar   \n",
       "\n",
       "   Venue Latitude  Venue Longitude Venue City Venue State Likes Rating  \n",
       "0       40.892567       -73.846406        NaN    New York               \n",
       "1       40.902771       -73.849898      Bronx          NY               \n",
       "2       40.894541       -73.843266      Bronx          NY               \n",
       "3       40.890211       -73.847002      Bronx          NY               \n",
       "4       40.895898       -73.855731      Bronx          NY               "
      ]
     },
     "execution_count": 2,
=======
       "                 Venue Name                  Venue ID Venue Category  \\\n",
       "0            The Upper Room  4f57ef61e4b063a4ab675858    Music Venue   \n",
       "1           Dyme Life Radio  4da63d645da3e8486b80546f    Music Venue   \n",
       "2                  Par-City  4d23aea014f2b1f7740f68be    Music Venue   \n",
       "3                 MY Studio  4e9cb64c49017c00c840e759    Music Venue   \n",
       "4  Major League Music Group  4ee0764f0aafbb3dbab41e92    Music Venue   \n",
       "\n",
       "   Venue Latitude  Venue Longitude Venue City Venue State Likes Rating  \n",
       "0       40.892567       -73.846406        NaN          NY               \n",
       "1       40.894541       -73.843266      Bronx          NY               \n",
       "2       40.890211       -73.847002      Bronx          NY               \n",
       "3       40.901926       -73.853504        NaN          NY               \n",
       "4       40.891367       -73.850088        NaN          NY               "
      ]
     },
     "execution_count": 21,
>>>>>>> 88a8804a694696b9b4b1162c864fb29c6edc5cf1
     "metadata": {},
     "output_type": "execute_result"
    }
   ],
   "source": [
    "# Dependencies\n",
    "import pandas as pd\n",
<<<<<<< HEAD
    "from config import client_id, client_secret\n",
    "import requests, json\n",
    "\n",
    "# Path to csv\n",
    "data_file = \"Output/summary_table.csv\"\n",
=======
    "from config import CLIENT_ID, CLIENT_SECRET\n",
    "import requests, json\n",
    "\n",
    "# Path to csv\n",
    "data_file = \"Output/cleaned_venue_data.csv\"\n",
>>>>>>> 88a8804a694696b9b4b1162c864fb29c6edc5cf1
    "\n",
    "# Creating DF from csv\n",
    "df = pd.read_csv(data_file)\n",
    "\n",
<<<<<<< HEAD
=======
    "df = df.drop_duplicates(subset='Venue ID', keep='first')\n",
    "\n",
>>>>>>> 88a8804a694696b9b4b1162c864fb29c6edc5cf1
    "# Blank columns in the DF\n",
    "df[\"Likes\"]=\"\"\n",
    "df[\"Rating\"]=\"\"\n",
    "\n",
    "df.head()"
   ]
  },
  {
   "cell_type": "code",
<<<<<<< HEAD
   "execution_count": 3,
=======
   "execution_count": 22,
>>>>>>> 88a8804a694696b9b4b1162c864fb29c6edc5cf1
   "metadata": {},
   "outputs": [
    {
     "data": {
      "text/plain": [
<<<<<<< HEAD
       "Neighborhood              9256\n",
       "Neighborhood Latitude     9256\n",
       "Neighborhood Longitude    9256\n",
       "Venue Name                9256\n",
       "Venue ID                  9256\n",
       "Venue Category            9256\n",
       "Venue Latitude            9256\n",
       "Venue Longitude           9256\n",
       "Venue City                8655\n",
       "Venue State               9256\n",
       "Likes                     9256\n",
       "Rating                    9256\n",
       "dtype: int64"
      ]
     },
     "execution_count": 3,
=======
       "Neighborhood              1226\n",
       "Neighborhood Latitude     1226\n",
       "Neighborhood Longitude    1226\n",
       "Venue Name                1226\n",
       "Venue ID                  1226\n",
       "Venue Category            1226\n",
       "Venue Latitude            1226\n",
       "Venue Longitude           1226\n",
       "Venue City                1106\n",
       "Venue State               1226\n",
       "Likes                     1226\n",
       "Rating                    1226\n",
       "dtype: int64"
      ]
     },
     "execution_count": 22,
>>>>>>> 88a8804a694696b9b4b1162c864fb29c6edc5cf1
     "metadata": {},
     "output_type": "execute_result"
    }
   ],
   "source": [
    "df.count()"
   ]
  },
  {
   "cell_type": "code",
<<<<<<< HEAD
   "execution_count": 11,
   "metadata": {},
   "outputs": [
    {
     "name": "stdout",
     "output_type": "stream",
     "text": [
      "Unnamed: 0                9256\n",
      "Unnamed: 0.1              9256\n",
      "Neighborhood              9256\n",
      "Neighborhood Latitude     9256\n",
      "Neighborhood Longitude    9256\n",
      "Venue Name                9256\n",
      "Venue ID                  9256\n",
      "Venue Category            9256\n",
      "Venue Latitude            9256\n",
      "Venue Longitude           9256\n",
      "Venue City                8655\n",
      "Venue State               9256\n",
      "Likes                        0\n",
      "Rating                       0\n",
      "dtype: int64\n",
      "Beginning Data Retrieval\n",
      "-------------------------------\n",
      "Attempting to get information for venue with id =  4f57ef61e4b063a4ab675858\n",
      "Failure response from Foursquare API, breaking...\n",
      "Data Retrieval Complete\n"
     ]
    }
   ],
   "source": [
    "# Read in and continue previous work\n",
    "df = pd.read_csv('Output/venue_information_partial.csv')\n",
    "print(df.count())\n",
    "\n",
    "def venue_info(df, v=20190607):\n",
=======
   "execution_count": 23,
   "metadata": {},
   "outputs": [],
   "source": [
    "def venue_info(df, start_index, end_index, v=20190607):\n",
>>>>>>> 88a8804a694696b9b4b1162c864fb29c6edc5cf1
    "    \n",
    "    print(\"Beginning Data Retrieval\")\n",
    "    print(\"-------------------------------\")\n",
    "    \n",
<<<<<<< HEAD
    "    start_index = 0 # index from which we begin polling venue information due to rate limited\n",
    "    end_index = 2000 # index at which we stop polling, or earlier if failure returned from 4sq\n",
=======
    "    #start_index = 0 # index from which we begin polling venue information due to rate limited\n",
    "    #end_index = 0 # index at which we stop polling, or earlier if failure returned from 4sq\n",
>>>>>>> 88a8804a694696b9b4b1162c864fb29c6edc5cf1
    "\n",
    "    for index in range(start_index, end_index):\n",
    "        id = df.loc[index,\"Venue ID\"]\n",
    "        print ('Attempting to get information for venue with id = ', id)\n",
    "        \n",
<<<<<<< HEAD
    "        url = f\"https://api.foursquare.com/v2/venues/{id}?&v={v}&client_id={client_id}&client_secret={client_secret}\"\n",
=======
    "        url = f\"https://api.foursquare.com/v2/venues/{id}?&v={v}&client_id={CLIENT_ID}&client_secret={CLIENT_SECRET}\"\n",
>>>>>>> 88a8804a694696b9b4b1162c864fb29c6edc5cf1
    "        \n",
    "        response = requests.get(url)\n",
    "        \n",
    "        if response.status_code != 200:\n",
    "            print ('Failure response from Foursquare API, breaking...')\n",
    "            break\n",
    "        else:\n",
    "            result = response.json()['response']\n",
    "            responses.append(result)\n",
    "            try:\n",
    "                df.loc[index,\"Likes\"]=result['venue']['likes']['count']\n",
    "            except:\n",
    "                df.loc[index,\"Likes\"]=0\n",
    "            try:\n",
    "                df.loc[index,\"Rating\"]=result['venue']['rating']\n",
    "            except:\n",
    "                df.loc[index,\"Rating\"]=\"N/A\"\n",
    "\n",
<<<<<<< HEAD
    "    print(\"Data Retrieval Complete\")\n",
    "\n",
    "venue_info(df)\n",
    "df.to_csv('Output/venue_information_partial.csv')"
=======
    "    print(\"Data Retrieval Complete\")"
   ]
  },
  {
   "cell_type": "code",
   "execution_count": 24,
   "metadata": {},
   "outputs": [
    {
     "name": "stdout",
     "output_type": "stream",
     "text": [
      "Beginning Data Retrieval\n",
      "-------------------------------\n",
      "Attempting to get information for venue with id =  4f57ef61e4b063a4ab675858\n"
     ]
    },
    {
     "ename": "NameError",
     "evalue": "name 'responses' is not defined",
     "output_type": "error",
     "traceback": [
      "\u001b[0;31m---------------------------------------------------------------------------\u001b[0m",
      "\u001b[0;31mNameError\u001b[0m                                 Traceback (most recent call last)",
      "\u001b[0;32m<ipython-input-24-0203256cd1d9>\u001b[0m in \u001b[0;36m<module>\u001b[0;34m\u001b[0m\n\u001b[0;32m----> 1\u001b[0;31m \u001b[0mvenue_info\u001b[0m\u001b[0;34m(\u001b[0m\u001b[0mdf\u001b[0m\u001b[0;34m,\u001b[0m \u001b[0;36m0\u001b[0m\u001b[0;34m,\u001b[0m \u001b[0;36m3\u001b[0m\u001b[0;34m,\u001b[0m\u001b[0mv\u001b[0m\u001b[0;34m=\u001b[0m\u001b[0;36m20190607\u001b[0m\u001b[0;34m)\u001b[0m\u001b[0;34m\u001b[0m\u001b[0;34m\u001b[0m\u001b[0m\n\u001b[0m",
      "\u001b[0;32m<ipython-input-23-5bfc5b82ce1f>\u001b[0m in \u001b[0;36mvenue_info\u001b[0;34m(df, start_index, end_index, v)\u001b[0m\n\u001b[1;32m     20\u001b[0m         \u001b[0;32melse\u001b[0m\u001b[0;34m:\u001b[0m\u001b[0;34m\u001b[0m\u001b[0;34m\u001b[0m\u001b[0m\n\u001b[1;32m     21\u001b[0m             \u001b[0mresult\u001b[0m \u001b[0;34m=\u001b[0m \u001b[0mresponse\u001b[0m\u001b[0;34m.\u001b[0m\u001b[0mjson\u001b[0m\u001b[0;34m(\u001b[0m\u001b[0;34m)\u001b[0m\u001b[0;34m[\u001b[0m\u001b[0;34m'response'\u001b[0m\u001b[0;34m]\u001b[0m\u001b[0;34m\u001b[0m\u001b[0;34m\u001b[0m\u001b[0m\n\u001b[0;32m---> 22\u001b[0;31m             \u001b[0mresponses\u001b[0m\u001b[0;34m.\u001b[0m\u001b[0mappend\u001b[0m\u001b[0;34m(\u001b[0m\u001b[0mresult\u001b[0m\u001b[0;34m)\u001b[0m\u001b[0;34m\u001b[0m\u001b[0;34m\u001b[0m\u001b[0m\n\u001b[0m\u001b[1;32m     23\u001b[0m             \u001b[0;32mtry\u001b[0m\u001b[0;34m:\u001b[0m\u001b[0;34m\u001b[0m\u001b[0;34m\u001b[0m\u001b[0m\n\u001b[1;32m     24\u001b[0m                 \u001b[0mdf\u001b[0m\u001b[0;34m.\u001b[0m\u001b[0mloc\u001b[0m\u001b[0;34m[\u001b[0m\u001b[0mindex\u001b[0m\u001b[0;34m,\u001b[0m\u001b[0;34m\"Likes\"\u001b[0m\u001b[0;34m]\u001b[0m\u001b[0;34m=\u001b[0m\u001b[0mresult\u001b[0m\u001b[0;34m[\u001b[0m\u001b[0;34m'venue'\u001b[0m\u001b[0;34m]\u001b[0m\u001b[0;34m[\u001b[0m\u001b[0;34m'likes'\u001b[0m\u001b[0;34m]\u001b[0m\u001b[0;34m[\u001b[0m\u001b[0;34m'count'\u001b[0m\u001b[0;34m]\u001b[0m\u001b[0;34m\u001b[0m\u001b[0;34m\u001b[0m\u001b[0m\n",
      "\u001b[0;31mNameError\u001b[0m: name 'responses' is not defined"
     ]
    }
   ],
   "source": [
    "venue_info(df, 0, 3,v=20190607)"
   ]
  },
  {
   "cell_type": "code",
   "execution_count": 17,
   "metadata": {},
   "outputs": [
    {
     "data": {
      "text/html": [
       "<div>\n",
       "<style scoped>\n",
       "    .dataframe tbody tr th:only-of-type {\n",
       "        vertical-align: middle;\n",
       "    }\n",
       "\n",
       "    .dataframe tbody tr th {\n",
       "        vertical-align: top;\n",
       "    }\n",
       "\n",
       "    .dataframe thead th {\n",
       "        text-align: right;\n",
       "    }\n",
       "</style>\n",
       "<table border=\"1\" class=\"dataframe\">\n",
       "  <thead>\n",
       "    <tr style=\"text-align: right;\">\n",
       "      <th></th>\n",
       "      <th>Neighborhood</th>\n",
       "      <th>Neighborhood Latitude</th>\n",
       "      <th>Neighborhood Longitude</th>\n",
       "      <th>Venue Name</th>\n",
       "      <th>Venue ID</th>\n",
       "      <th>Venue Category</th>\n",
       "      <th>Venue Latitude</th>\n",
       "      <th>Venue Longitude</th>\n",
       "      <th>Venue City</th>\n",
       "      <th>Venue State</th>\n",
       "      <th>Likes</th>\n",
       "      <th>Rating</th>\n",
       "    </tr>\n",
       "  </thead>\n",
       "  <tbody>\n",
       "    <tr>\n",
       "      <th>0</th>\n",
       "      <td>Wakefield</td>\n",
       "      <td>40.894705</td>\n",
       "      <td>-73.847201</td>\n",
       "      <td>The Upper Room</td>\n",
       "      <td>4f57ef61e4b063a4ab675858</td>\n",
       "      <td>Music Venue</td>\n",
       "      <td>40.892567</td>\n",
       "      <td>-73.846406</td>\n",
       "      <td>NaN</td>\n",
       "      <td>NY</td>\n",
       "      <td></td>\n",
       "      <td></td>\n",
       "    </tr>\n",
       "    <tr>\n",
       "      <th>1</th>\n",
       "      <td>Wakefield</td>\n",
       "      <td>40.894705</td>\n",
       "      <td>-73.847201</td>\n",
       "      <td>Dyme Life Radio</td>\n",
       "      <td>4da63d645da3e8486b80546f</td>\n",
       "      <td>Music Venue</td>\n",
       "      <td>40.894541</td>\n",
       "      <td>-73.843266</td>\n",
       "      <td>Bronx</td>\n",
       "      <td>NY</td>\n",
       "      <td></td>\n",
       "      <td></td>\n",
       "    </tr>\n",
       "    <tr>\n",
       "      <th>2</th>\n",
       "      <td>Wakefield</td>\n",
       "      <td>40.894705</td>\n",
       "      <td>-73.847201</td>\n",
       "      <td>Par-City</td>\n",
       "      <td>4d23aea014f2b1f7740f68be</td>\n",
       "      <td>Music Venue</td>\n",
       "      <td>40.890211</td>\n",
       "      <td>-73.847002</td>\n",
       "      <td>Bronx</td>\n",
       "      <td>NY</td>\n",
       "      <td></td>\n",
       "      <td></td>\n",
       "    </tr>\n",
       "    <tr>\n",
       "      <th>3</th>\n",
       "      <td>Wakefield</td>\n",
       "      <td>40.894705</td>\n",
       "      <td>-73.847201</td>\n",
       "      <td>MY Studio</td>\n",
       "      <td>4e9cb64c49017c00c840e759</td>\n",
       "      <td>Music Venue</td>\n",
       "      <td>40.901926</td>\n",
       "      <td>-73.853504</td>\n",
       "      <td>NaN</td>\n",
       "      <td>NY</td>\n",
       "      <td></td>\n",
       "      <td></td>\n",
       "    </tr>\n",
       "    <tr>\n",
       "      <th>4</th>\n",
       "      <td>Wakefield</td>\n",
       "      <td>40.894705</td>\n",
       "      <td>-73.847201</td>\n",
       "      <td>Major League Music Group</td>\n",
       "      <td>4ee0764f0aafbb3dbab41e92</td>\n",
       "      <td>Music Venue</td>\n",
       "      <td>40.891367</td>\n",
       "      <td>-73.850088</td>\n",
       "      <td>NaN</td>\n",
       "      <td>NY</td>\n",
       "      <td></td>\n",
       "      <td></td>\n",
       "    </tr>\n",
       "  </tbody>\n",
       "</table>\n",
       "</div>"
      ],
      "text/plain": [
       "  Neighborhood  Neighborhood Latitude  Neighborhood Longitude  \\\n",
       "0    Wakefield              40.894705              -73.847201   \n",
       "1    Wakefield              40.894705              -73.847201   \n",
       "2    Wakefield              40.894705              -73.847201   \n",
       "3    Wakefield              40.894705              -73.847201   \n",
       "4    Wakefield              40.894705              -73.847201   \n",
       "\n",
       "                 Venue Name                  Venue ID Venue Category  \\\n",
       "0            The Upper Room  4f57ef61e4b063a4ab675858    Music Venue   \n",
       "1           Dyme Life Radio  4da63d645da3e8486b80546f    Music Venue   \n",
       "2                  Par-City  4d23aea014f2b1f7740f68be    Music Venue   \n",
       "3                 MY Studio  4e9cb64c49017c00c840e759    Music Venue   \n",
       "4  Major League Music Group  4ee0764f0aafbb3dbab41e92    Music Venue   \n",
       "\n",
       "   Venue Latitude  Venue Longitude Venue City Venue State Likes Rating  \n",
       "0       40.892567       -73.846406        NaN          NY               \n",
       "1       40.894541       -73.843266      Bronx          NY               \n",
       "2       40.890211       -73.847002      Bronx          NY               \n",
       "3       40.901926       -73.853504        NaN          NY               \n",
       "4       40.891367       -73.850088        NaN          NY               "
      ]
     },
     "execution_count": 17,
     "metadata": {},
     "output_type": "execute_result"
    }
   ],
   "source": [
    "df.head()"
>>>>>>> 88a8804a694696b9b4b1162c864fb29c6edc5cf1
   ]
  },
  {
   "cell_type": "code",
   "execution_count": null,
   "metadata": {},
   "outputs": [],
   "source": [
<<<<<<< HEAD
    "df.to_csv('Output/pulled_likes_and_ratings.csv')"
=======
    "# Save as CSV\n",
    "df.to_csv('Output/cleaned_venue_data.csv')"
>>>>>>> 88a8804a694696b9b4b1162c864fb29c6edc5cf1
   ]
  }
 ],
 "metadata": {
  "kernelspec": {
   "display_name": "Python 3",
   "language": "python",
   "name": "python3"
  },
  "language_info": {
   "codemirror_mode": {
    "name": "ipython",
    "version": 3
   },
   "file_extension": ".py",
   "mimetype": "text/x-python",
   "name": "python",
   "nbconvert_exporter": "python",
   "pygments_lexer": "ipython3",
<<<<<<< HEAD
   "version": "3.7.3"
=======
   "version": "3.6.8"
>>>>>>> 88a8804a694696b9b4b1162c864fb29c6edc5cf1
  },
  "toc": {
   "base_numbering": 1,
   "nav_menu": {},
   "number_sections": true,
   "sideBar": true,
   "skip_h1_title": false,
   "title_cell": "Table of Contents",
   "title_sidebar": "Contents",
   "toc_cell": false,
   "toc_position": {},
   "toc_section_display": true,
   "toc_window_display": false
  },
  "varInspector": {
   "cols": {
    "lenName": 16,
    "lenType": 16,
    "lenVar": 40
   },
   "kernels_config": {
    "python": {
     "delete_cmd_postfix": "",
     "delete_cmd_prefix": "del ",
     "library": "var_list.py",
     "varRefreshCmd": "print(var_dic_list())"
    },
    "r": {
     "delete_cmd_postfix": ") ",
     "delete_cmd_prefix": "rm(",
     "library": "var_list.r",
     "varRefreshCmd": "cat(var_dic_list()) "
    }
   },
   "types_to_exclude": [
    "module",
    "function",
    "builtin_function_or_method",
    "instance",
    "_Feature"
   ],
   "window_display": false
  }
 },
 "nbformat": 4,
 "nbformat_minor": 2
}
