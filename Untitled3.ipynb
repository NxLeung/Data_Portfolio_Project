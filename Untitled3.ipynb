{
 "cells": [
  {
   "cell_type": "code",
   "execution_count": null,
   "metadata": {},
   "outputs": [],
   "source": [
    "import pandas as pd \n",
    "import json\n",
    "import os\n",
    "from config import CLIENT_ID, CLIENT_SECRET\n",
    "import requests\n",
    "import foursquare\n",
    "import time\n",
    "\n",
    "# Load JSON\n",
    "filepath = os.path.join(\"Resources\", \"geojson.json\")\n",
    "with open(filepath) as jsonfile:\n",
    "    geo_json = json.load(jsonfile)\n",
    "nycdata = geo_json[\"features\"]\n",
    "nycdata[0]"
   ]
  },
  {
   "cell_type": "code",
   "execution_count": null,
   "metadata": {},
   "outputs": [],
   "source": [
    "column_names = ['Borough','Neighborhood', 'Latitude', 'Longitude']\n",
    "neighborhoods = pd.DataFrame(columns=column_names)\n",
    "\n",
    "for data in nycdata:\n",
    "    borough = nycdata = data['properties']['borough']\n",
    "    neighborhood_name = data['properties']['name']\n",
    "    \n",
    "    neighborhoodlatlon = data['geometry']['coordinates']\n",
    "    lat = neighborhoodlatlon[1]\n",
    "    lng = neighborhoodlatlon[0]\n",
    "    \n",
    "    neighborhoods = neighborhoods.append({'Borough':borough,\n",
    "                                          'Neighborhood':neighborhood_name,\n",
    "                                          'Latitude': lat,\n",
    "                                          'Longitude': lng}, ignore_index=True)\n",
    "\n",
    "neighborhoods.head()"
   ]
  },
  {
   "cell_type": "code",
   "execution_count": null,
   "metadata": {},
   "outputs": [],
   "source": [
    "VERSION = 20180405\n",
    "lat = 40.7484\n",
    "lng = -73.9857\n",
    "radius = 500 #Meters\n",
    "categoryId = '4bf58dd8d48988d1fe941735'\n",
    "limit = 1\n",
    "endpoint = 'https://api.foursquare.com/v2/venues/search?'\n",
    "\n",
    "url = '{}&client_id={}&client_secret={}&v={}&ll={},{}&radius={}&categoryId={}&limit={}'.format(\n",
    "    endpoint,\n",
    "    CLIENT_ID,\n",
    "    CLIENT_SECRET,\n",
    "    VERSION,\n",
    "    lat,\n",
    "    lon,\n",
    "    radius,\n",
    "    categoryId,\n",
    "    limit\n",
    ")\n",
    "\n",
    "results = requests.get(url).json()\n",
    "results"
   ]
  },
  {
   "cell_type": "code",
   "execution_count": null,
   "metadata": {},
   "outputs": [],
   "source": [
    "def create_url(endpoint, CLIENT_ID, CLIENT_SECRET, VERSION, lat, lng, radius, categoryId):\n",
    "\n",
    "    url = '{}&client_id={}&client_secret={}&v={}&ll={},{}&radius={}&categoryId={}&limit={}'.format(\n",
    "        endpoint,\n",
    "        CLIENT_ID,\n",
    "        CLIENT_SECRET,\n",
    "        VERSION,\n",
    "        lat,\n",
    "        lng,\n",
    "        radius,\n",
    "        categoryId,\n",
    "        limit\n",
    "    )\n",
    "    return url\n",
    "\n",
    "endpoint = 'https://api.foursquare.com/v2/venues/search?'\n",
    "categoryIds = ['4bf58dd8d48988d1e5931735',# Music Venue\n",
    "               '4bf58dd8d48988d1e7931735',# Jazz Club\n",
    "               '4bf58dd8d48988d1e8931735',# Piano Bar\n",
    "               '4bf58dd8d48988d1e9931735',# Rock Club\n",
    "               '5267e4d9e4b0ec79466e48d1',# Music Festival\n",
    "               '56aa371be4b08b9a8d5734db',# Amphitheater\n",
    "               '5032792091d4c4b30a586d5c',# Concert Hall\n",
    "               '4d4b7105d754a06376d81259',# Nightlife Spot\n",
    "               '4bf58dd8d48988d120941735',# Kareoke Bar\n",
    "               ]\n",
    "VERSION = 20180405\n",
    "limit = 50\n",
    "radius = 1000\n",
    "lat = 45.0000000\n",
    "lng = -70.0000000\n",
    "categoryId = ','.join(categoryIds)\n",
    "url_example = create_url(endpoint, CLIENT_ID, CLIENT_SECRET, VERSION, lat, lng, radius, categoryId)\n",
    "print(url_example)\n",
    "\n",
    "# client = foursquare.Foursquare(client_id=CLIENT_ID, client_secret=CLIENT_SECRET)\n",
    "# for venue in venues:\n",
    "#     client.venues(venue)\n",
    "#     client.venues.search(params={'query': 'coffee', 'll': '40.7233,-74.0030'})\n"
   ]
  },
  {
   "cell_type": "code",
   "execution_count": null,
   "metadata": {},
   "outputs": [],
   "source": [
    "def getNearby(neighborhoods, latitudes, longitudes, radius=1000):\n",
    "    endpoint = endpoint = 'https://api.foursquare.com/v2/venues/search?'\n",
    "    venues_list = []\n",
    "    \n",
    "    for hood_name, lat, lng, in zip(neighborhoods, latitudes, longitudes):\n",
    "        url = create_url(endpoint, CLIENT_ID, CLIENT_SECRET, VERSION, lat, lng, radius, categoryId)\n",
    "        \n",
    "        results = requests.get(url).json()['response']['venues']\n",
    "        \n",
    "        for item in results:\n",
    "            venue_name = item['name']\n",
    "            venue_id = item['id']\n",
    "            venue_category = item['categories'][0]['name']\n",
    "            venue_lat = item['location']['lat']\n",
    "            venue_lng = item['location']['lng']\n",
    "            try:\n",
    "                venue_city = item['location']['city']\n",
    "            except:\n",
    "                venue_city = 'N/A'\n",
    "            venue_state = item['location']['state']\n",
    "            \n",
    "            venues_list.append([(hood_name,\n",
    "                                lat,\n",
    "                                lng,\n",
    "                                venue_name,\n",
    "                                venue_id,\n",
    "                                venue_category,\n",
    "                                venue_lat,\n",
    "                                venue_lng,\n",
    "                                venue_city,\n",
    "                                venue_state\n",
    "                                )])\n",
    "    nearby_venues = pd.DataFrame([item for venue_list in venues_list for item in venue_list])\n",
    "    nearby_venues.columns = ['Neighborhood',\n",
    "                             'Neighborhood Latitude',\n",
    "                             'Neighborhood Longitude',\n",
    "                             'Venue Name',\n",
    "                             'Venue ID',\n",
    "                             'Venue Category',\n",
    "                             'Venue Latitude',\n",
    "                             'Venue Longitude', \n",
    "                             'Venue City', \n",
    "                             'Venue State'\n",
    "                            ]\n",
    "    return nearby_venues\n",
    "\n",
    "prelim_venue_data = getNearby(neighborhoods['Neighborhood'],\n",
    "                              neighborhoods['Latitude'],\n",
    "                              neighborhoods['Longitude'],\n",
    "                              radius\n",
    "                             )"
   ]
  },
  {
   "cell_type": "code",
   "execution_count": null,
   "metadata": {},
   "outputs": [],
   "source": [
    "prelim_venue_data.to_csv(\"output/summary_table.csv\", index=False)"
   ]
  },
  {
   "cell_type": "code",
   "execution_count": null,
   "metadata": {},
   "outputs": [],
   "source": [
    "newyork1 = newyork[0:449]\n",
    "newyork2 = newyork[450:899]\n",
    "newyork3 = newyork[900:1349]\n",
    "newyork4 = newyork[1350:1799]\n",
    "newyork5 = newyork[1800:2249]\n",
    "newyork6 = newyork[2250:2514]"
   ]
  },
  {
   "cell_type": "code",
   "execution_count": null,
   "metadata": {},
   "outputs": [],
   "source": [
    "newyork = prelim_venue_data[prelim_venue_data['Venue City']=='New York']\n",
    "newyork.to_csv('output/newyork.csv', index=False)"
   ]
  }
 ],
 "metadata": {
  "kernelspec": {
   "display_name": "Python 3",
   "language": "python",
   "name": "python3"
  },
  "language_info": {
   "codemirror_mode": {
    "name": "ipython",
    "version": 3
   },
   "file_extension": ".py",
   "mimetype": "text/x-python",
   "name": "python",
   "nbconvert_exporter": "python",
   "pygments_lexer": "ipython3",
   "version": "3.6.8"
  },
  "toc": {
   "base_numbering": 1,
   "nav_menu": {},
   "number_sections": true,
   "sideBar": true,
   "skip_h1_title": false,
   "title_cell": "Table of Contents",
   "title_sidebar": "Contents",
   "toc_cell": false,
   "toc_position": {},
   "toc_section_display": true,
   "toc_window_display": false
  },
  "varInspector": {
   "cols": {
    "lenName": 16,
    "lenType": 16,
    "lenVar": 40
   },
   "kernels_config": {
    "python": {
     "delete_cmd_postfix": "",
     "delete_cmd_prefix": "del ",
     "library": "var_list.py",
     "varRefreshCmd": "print(var_dic_list())"
    },
    "r": {
     "delete_cmd_postfix": ") ",
     "delete_cmd_prefix": "rm(",
     "library": "var_list.r",
     "varRefreshCmd": "cat(var_dic_list()) "
    }
   },
   "types_to_exclude": [
    "module",
    "function",
    "builtin_function_or_method",
    "instance",
    "_Feature"
   ],
   "window_display": false
  }
 },
 "nbformat": 4,
 "nbformat_minor": 2
}
