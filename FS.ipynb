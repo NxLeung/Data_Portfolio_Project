{
 "cells": [
  {
   "cell_type": "code",
   "execution_count": 1,
   "metadata": {},
   "outputs": [],
   "source": [
    "# Dependencies\n",
    "import json\n",
    "import requests\n",
    "from config import client_id, client_secret\n",
    "import pandas as pd"
   ]
  },
  {
   "cell_type": "code",
   "execution_count": 2,
   "metadata": {},
   "outputs": [],
   "source": [
    "# Accessing the Json file downloaded from NYU Spatial Data Repository\n",
    "with open(\"nyu-2451-34572-geojson.json\") as json_data:\n",
    "    newyork_data = json.load(json_data)\n",
    "nyc_ndata = newyork_data[\"features\"]"
   ]
  },
  {
   "cell_type": "code",
   "execution_count": 3,
   "metadata": {},
   "outputs": [],
   "source": [
    "# Creating lists to hold data\n",
    "borough = []\n",
    "neigborhood = []\n",
    "lat = []\n",
    "lon = []\n",
    "\n",
    "# Looping thru data and appending to lists\n",
    "for data in nyc_ndata:\n",
    "    borough.append(data['properties']['borough'])\n",
    "    neigborhood.append(data['properties']['name'])\n",
    "    lat.append(data['geometry']['coordinates'][1])\n",
    "    lon.append(data['geometry']['coordinates'][0])\n",
    "\n",
    "# Creating Dataframe to hold all the data\n",
    "nyc_df = pd.DataFrame({\n",
    "    \"Borough\":borough,\n",
    "    \"Neigborhood\":neigborhood,\n",
    "    \"Latitude\":lat,\n",
    "    \"Longitude\":lon\n",
    "})"
   ]
  },
  {
   "cell_type": "code",
   "execution_count": 4,
   "metadata": {
    "scrolled": true
   },
   "outputs": [
    {
     "data": {
      "text/html": [
       "<div>\n",
       "<style scoped>\n",
       "    .dataframe tbody tr th:only-of-type {\n",
       "        vertical-align: middle;\n",
       "    }\n",
       "\n",
       "    .dataframe tbody tr th {\n",
       "        vertical-align: top;\n",
       "    }\n",
       "\n",
       "    .dataframe thead th {\n",
       "        text-align: right;\n",
       "    }\n",
       "</style>\n",
       "<table border=\"1\" class=\"dataframe\">\n",
       "  <thead>\n",
       "    <tr style=\"text-align: right;\">\n",
       "      <th></th>\n",
       "      <th>Borough</th>\n",
       "      <th>Neigborhood</th>\n",
       "      <th>Latitude</th>\n",
       "      <th>Longitude</th>\n",
       "    </tr>\n",
       "  </thead>\n",
       "  <tbody>\n",
       "    <tr>\n",
       "      <th>0</th>\n",
       "      <td>Bronx</td>\n",
       "      <td>Wakefield</td>\n",
       "      <td>40.894705</td>\n",
       "      <td>-73.847201</td>\n",
       "    </tr>\n",
       "    <tr>\n",
       "      <th>1</th>\n",
       "      <td>Bronx</td>\n",
       "      <td>Co-op City</td>\n",
       "      <td>40.874294</td>\n",
       "      <td>-73.829939</td>\n",
       "    </tr>\n",
       "    <tr>\n",
       "      <th>2</th>\n",
       "      <td>Bronx</td>\n",
       "      <td>Eastchester</td>\n",
       "      <td>40.887556</td>\n",
       "      <td>-73.827806</td>\n",
       "    </tr>\n",
       "    <tr>\n",
       "      <th>3</th>\n",
       "      <td>Bronx</td>\n",
       "      <td>Fieldston</td>\n",
       "      <td>40.895437</td>\n",
       "      <td>-73.905643</td>\n",
       "    </tr>\n",
       "    <tr>\n",
       "      <th>4</th>\n",
       "      <td>Bronx</td>\n",
       "      <td>Riverdale</td>\n",
       "      <td>40.890834</td>\n",
       "      <td>-73.912585</td>\n",
       "    </tr>\n",
       "  </tbody>\n",
       "</table>\n",
       "</div>"
      ],
      "text/plain": [
       "  Borough  Neigborhood   Latitude  Longitude\n",
       "0   Bronx    Wakefield  40.894705 -73.847201\n",
       "1   Bronx   Co-op City  40.874294 -73.829939\n",
       "2   Bronx  Eastchester  40.887556 -73.827806\n",
       "3   Bronx    Fieldston  40.895437 -73.905643\n",
       "4   Bronx    Riverdale  40.890834 -73.912585"
      ]
     },
     "execution_count": 4,
     "metadata": {},
     "output_type": "execute_result"
    }
   ],
   "source": [
    "nyc_df.head()"
   ]
  },
  {
   "cell_type": "code",
   "execution_count": 5,
   "metadata": {},
   "outputs": [],
   "source": [
    "def createURL(endpoint, client_id, client_secret, version, lat, lon, radius, categoryid, limit):\n",
    "    url=\"{}&client_id={}&client_secret={}&v={}&ll={},{}&radius={}&categoryid={}&limit={}\".format(\n",
    "    endpoint,\n",
    "    client_id,\n",
    "    client_secret,\n",
    "    v,\n",
    "    lat,\n",
    "    lon,\n",
    "    radius,\n",
    "    categoryid,\n",
    "    limit)\n",
    "    return url"
   ]
  },
  {
   "cell_type": "code",
   "execution_count": 31,
   "metadata": {},
   "outputs": [],
   "source": [
    "hood_name = nyc_df[\"Neigborhood\"][:3]\n",
    "lat = nyc_df[\"Latitude\"][:3]\n",
    "lon = nyc_df[\"Longitude\"][:3]"
   ]
  },
  {
   "cell_type": "code",
   "execution_count": 30,
   "metadata": {},
   "outputs": [
    {
     "name": "stdout",
     "output_type": "stream",
     "text": [
      "Beginning Data Retrieval\n",
      "-------------------------------\n",
      "Venue not found. Skipping...\n",
      "Venue not found. Skipping...\n",
      "Venue not found. Skipping...\n",
      "Data Retrieval Complete\n",
      "[]\n"
     ]
    }
   ],
   "source": [
    "# Starting URL for Weather Map API Call\n",
    "endpoint=\"https://api.foursquare.com/v2/venues/search?\"\n",
    "v=20190607\n",
    "radius=1000\n",
    "categoryid = \"4bf58dd8d48988d17f941735\"\n",
    "limit=50\n",
    "\n",
    "total_records = nyc_df[\"Borough\"].count()\n",
    "\n",
    "# Will keep the count of records\n",
    "record = 1\n",
    "\n",
    "venue_name = []\n",
    "\n",
    "\n",
    "# Log file print statement\n",
    "print(\"Beginning Data Retrieval\")\n",
    "print(\"-------------------------------\")\n",
    "\n",
    "# Loop through the cities in the city list\n",
    "for hood_name, lat, lon in zip(hood_name, lat, lon):\n",
    "    \n",
    "    url=createURL(endpoint, client_id, client_secret, v, lat, lon, radius, categoryid, limit)\n",
    "    response = requests.get(url).json()[\"response\"][\"venues\"] \n",
    "        \n",
    "        # Append the data to lists\n",
    "        venue_name.append(response[0][\"name\"])\n",
    "        \n",
    "\n",
    "        print(f\"Processing Record {record} | {total_records}\")\n",
    "        print(url)\n",
    "        \n",
    "        # Increase counter by one\n",
    "        record = record + 1\n",
    "\n",
    "\n",
    "    except:\n",
    "        print(\"Venue not found. Skipping...\")\n",
    "\n",
    "print(\"Data Retrieval Complete\")\n",
    "print(venue_name)"
   ]
  },
  {
   "cell_type": "code",
   "execution_count": 32,
   "metadata": {},
   "outputs": [
    {
     "ename": "TypeError",
     "evalue": "list indices must be integers or slices, not str",
     "output_type": "error",
     "traceback": [
      "\u001b[1;31m---------------------------------------------------------------------------\u001b[0m",
      "\u001b[1;31mTypeError\u001b[0m                                 Traceback (most recent call last)",
      "\u001b[1;32m<ipython-input-32-2790154f7974>\u001b[0m in \u001b[0;36m<module>\u001b[1;34m()\u001b[0m\n\u001b[0;32m      4\u001b[0m     \u001b[0mresponse\u001b[0m \u001b[1;33m=\u001b[0m \u001b[0mrequests\u001b[0m\u001b[1;33m.\u001b[0m\u001b[0mget\u001b[0m\u001b[1;33m(\u001b[0m\u001b[0murl\u001b[0m\u001b[1;33m)\u001b[0m\u001b[1;33m.\u001b[0m\u001b[0mjson\u001b[0m\u001b[1;33m(\u001b[0m\u001b[1;33m)\u001b[0m\u001b[1;33m[\u001b[0m\u001b[1;34m\"response\"\u001b[0m\u001b[1;33m]\u001b[0m\u001b[1;33m[\u001b[0m\u001b[1;34m\"venues\"\u001b[0m\u001b[1;33m]\u001b[0m\u001b[1;33m\u001b[0m\u001b[0m\n\u001b[0;32m      5\u001b[0m \u001b[1;33m\u001b[0m\u001b[0m\n\u001b[1;32m----> 6\u001b[1;33m     \u001b[0mvenue_name\u001b[0m\u001b[1;33m.\u001b[0m\u001b[0mappend\u001b[0m\u001b[1;33m(\u001b[0m\u001b[0mresponse\u001b[0m\u001b[1;33m[\u001b[0m\u001b[1;33m:\u001b[0m\u001b[1;33m]\u001b[0m\u001b[1;33m[\u001b[0m\u001b[1;34m\"name\"\u001b[0m\u001b[1;33m]\u001b[0m\u001b[1;33m)\u001b[0m\u001b[1;33m\u001b[0m\u001b[0m\n\u001b[0m\u001b[0;32m      7\u001b[0m \u001b[1;33m\u001b[0m\u001b[0m\n\u001b[0;32m      8\u001b[0m \u001b[0mvenue_name\u001b[0m\u001b[1;33m\u001b[0m\u001b[0m\n",
      "\u001b[1;31mTypeError\u001b[0m: list indices must be integers or slices, not str"
     ]
    }
   ],
   "source": [
    "for hood_name, lat, lon in zip(hood_name, lat, lon):\n",
    "    \n",
    "    url=createURL(endpoint, client_id, client_secret, v, lat, lon, radius, categoryid, limit)\n",
    "    response = requests.get(url).json()[\"response\"][\"venues\"] \n",
    "\n",
    "    venue_name.append(response[:][\"name\"])\n",
    "    \n",
    "venue_name"
   ]
  },
  {
   "cell_type": "code",
   "execution_count": 14,
   "metadata": {},
   "outputs": [
    {
     "data": {
      "text/plain": [
       "['Shell', 'MS 181', 'Imperial beverage center']"
      ]
     },
     "execution_count": 14,
     "metadata": {},
     "output_type": "execute_result"
    }
   ],
   "source": [
    "venue_name"
   ]
  },
  {
   "cell_type": "code",
   "execution_count": 17,
   "metadata": {},
   "outputs": [
    {
     "data": {
      "text/plain": [
       "Borough        306\n",
       "Neigborhood    306\n",
       "Latitude       306\n",
       "Longitude      306\n",
       "dtype: int64"
      ]
     },
     "execution_count": 17,
     "metadata": {},
     "output_type": "execute_result"
    }
   ],
   "source": [
    "nyc_df.count()"
   ]
  },
  {
   "cell_type": "code",
   "execution_count": null,
   "metadata": {},
   "outputs": [],
   "source": []
  }
 ],
 "metadata": {
  "kernelspec": {
   "display_name": "Python 3",
   "language": "python",
   "name": "python3"
  },
  "language_info": {
   "codemirror_mode": {
    "name": "ipython",
    "version": 3
   },
   "file_extension": ".py",
   "mimetype": "text/x-python",
   "name": "python",
   "nbconvert_exporter": "python",
   "pygments_lexer": "ipython3",
   "version": "3.6.8"
  },
  "toc": {
   "base_numbering": 1,
   "nav_menu": {},
   "number_sections": true,
   "sideBar": true,
   "skip_h1_title": false,
   "title_cell": "Table of Contents",
   "title_sidebar": "Contents",
   "toc_cell": false,
   "toc_position": {},
   "toc_section_display": true,
   "toc_window_display": false
  },
  "varInspector": {
   "cols": {
    "lenName": 16,
    "lenType": 16,
    "lenVar": 40
   },
   "kernels_config": {
    "python": {
     "delete_cmd_postfix": "",
     "delete_cmd_prefix": "del ",
     "library": "var_list.py",
     "varRefreshCmd": "print(var_dic_list())"
    },
    "r": {
     "delete_cmd_postfix": ") ",
     "delete_cmd_prefix": "rm(",
     "library": "var_list.r",
     "varRefreshCmd": "cat(var_dic_list()) "
    }
   },
   "types_to_exclude": [
    "module",
    "function",
    "builtin_function_or_method",
    "instance",
    "_Feature"
   ],
   "window_display": false
  }
 },
 "nbformat": 4,
 "nbformat_minor": 2
}
